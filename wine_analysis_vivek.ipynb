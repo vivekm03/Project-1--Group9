{
 "cells": [
  {
   "cell_type": "code",
   "execution_count": 1,
   "metadata": {},
   "outputs": [],
   "source": [
    "# Dependencies and Setup\n",
    "%matplotlib inline\n",
    "import matplotlib.pyplot as plt\n",
    "import pandas as pd\n",
    "import numpy as np\n",
    "\n",
    "# Hide warning messages in notebook\n",
    "import warnings\n",
    "warnings.filterwarnings('ignore')\n",
    "\n",
    "# File to Load (Remember to Change These)\n",
    "wine_data_to_load = \"data/winemag-data_first150k.csv\"\n",
    "\n",
    "# Read the Mouse and Drug Data and the Clinical Trial Data\n",
    "df_data=pd.read_csv(wine_data_to_load)\n",
    "#df_data.head(10)\n"
   ]
  },
  {
   "cell_type": "code",
   "execution_count": null,
   "metadata": {},
   "outputs": [],
   "source": [
    "#Data Cleaning"
   ]
  },
  {
   "cell_type": "code",
   "execution_count": 2,
   "metadata": {},
   "outputs": [
    {
     "name": "stdout",
     "output_type": "stream",
     "text": [
      "Number of varieties of wine in dataset: 632\n",
      "Number of countries represented in dataset: 49\n",
      "Chardonnay                  14482\n",
      "Pinot Noir                  14291\n",
      "Cabernet Sauvignon          12800\n",
      "Red Blend                   10062\n",
      "Bordeaux-style Red Blend     7347\n",
      "Sauvignon Blanc              6320\n",
      "Syrah                        5825\n",
      "Riesling                     5524\n",
      "Merlot                       5070\n",
      "Zinfandel                    3799\n",
      "Name: variety, dtype: int64\n"
     ]
    }
   ],
   "source": [
    "#Data Exploration\n",
    "print(f'Number of varieties of wine in dataset: {len(df_data[\"variety\"].unique())}')\n",
    "print(f'Number of countries represented in dataset: {len(df_data[\"country\"].unique())}')\n",
    "# Get top 5 wine varieties represented\n",
    "top_10=df_data[\"variety\"].value_counts().head(10)\n",
    "#Drop unnamed column\n",
    "df_drop=df_data.drop(df_data.columns[0], axis=1)\n",
    "#keep values which are 3 times +- standard \n",
    "df_limit = df_drop[df_drop[\"price\"]<(df_drop['price'].std()*3.0)]\n",
    "top_10_var=df_limit[\"variety\"].value_counts().head(10)\n",
    "print(top_10)\n",
    "#df_limit.head(10)"
   ]
  },
  {
   "cell_type": "code",
   "execution_count": 3,
   "metadata": {},
   "outputs": [
    {
     "data": {
      "image/png": "[encoded data removed]",
      "text/plain": [
       "<Figure size 432x288 with 1 Axes>"
      ]
     },
     "metadata": {},
     "output_type": "display_data"
    }
   ],
   "source": [
    "#Look at price categories of wines and get descriptive stats per range\n",
    "#Categorize price into age groups by binning\n",
    "bins=[0,10,20,30,40,50,60,80,100,500]\n",
    "group_names=[\"<10\", \"10-20\",\"20-30\",\"30-40\",\"40-50\",\"50-60\",\"60-80\",\"80-100\",\">100\"]\n",
    "\n",
    "#Use non-duplicate purchasing data by players\n",
    "df_limit[\"price_cat\"] = pd.cut(df_limit[\"price\"], bins, labels=group_names)\n",
    "#Get counts of age groups\n",
    "df_pr_grp=df_limit.groupby(\"price_cat\")\n",
    "df_pr_grp_mean=df_pr_grp[\"points\"].mean()\n",
    "df_pr_grp_ct=df_pr_grp[\"points\"].count()\n",
    "df_pr_grp_stats=pd.DataFrame(df_pr_grp_mean).merge(pd.DataFrame(df_pr_grp_ct), on=\"price_cat\")\\\n",
    "    .rename(columns={\"points_x\":\"mean\", \"points_y\":\"ct\"}).reset_index()\n",
    "df_pr_grp_stats[\"mean_lab\"]=round(df_pr_grp_stats[\"mean\"],1).astype(str)\n",
    "\n",
    "#Create figure\n",
    "fig, ax=plt.subplots()\n",
    "x_axis=np.arange(1,len(df_pr_grp_stats)+1,1)\n",
    "y_ticks=np.arange(80,95,5)\n",
    "ax.set_ylim(80,95) \n",
    "\n",
    "plt.bar(x_axis, df_pr_grp_stats[\"mean\"], color='g', alpha=0.5, align=\"edge\", width=0.8)\n",
    "\n",
    "for i, d in enumerate(df_pr_grp_stats[\"price_cat\"]):\n",
    "        ax.text(x_axis[i], df_pr_grp_stats[\"mean\"][i] +.3, df_pr_grp_stats[\"mean_lab\"][i] ,color='black')\n",
    "        ax.text(x_axis[i], df_pr_grp_stats[\"mean\"][i] -1, df_pr_grp_stats[\"ct\"][i] ,color='black')\n",
    "        \n",
    "#Create tick marks and tick labels\n",
    "ax.set_xticks(x_axis+0.5)\n",
    "ax.set_xticklabels(df_pr_grp_stats[\"price_cat\"])\n",
    "ax.set_yticks(y_ticks)\n",
    "\n",
    "#Create Title, axes labels and gridlines\n",
    "plt.title(\"Mean Points for Price range\")\n",
    "plt.ylabel(\"Mean of Wine Points\")  \n",
    "plt.ylabel(\"Wine Price Ranges\")  \n",
    "plt.grid(which='major',axis=\"y\")\n",
    "         "
   ]
  },
  {
   "cell_type": "code",
   "execution_count": null,
   "metadata": {},
   "outputs": [],
   "source": [
    "#Top 10 wines under $10 by variety and region\n",
    "#Subset by price range\n",
    "#low_lim=0\n",
    "#up_lim=10\n",
    "#df_lim=df_limit.loc[(df_limit['price'] >= low_lim) & (df_limit['price'] <= up_lim) ,:]"
   ]
  },
  {
   "cell_type": "code",
   "execution_count": null,
   "metadata": {},
   "outputs": [],
   "source": [
    "#Which country produces best  \n",
    "cny_t10=df_limit[\"country\"].value_counts().head(10)\n",
    "\n",
    "\n"
   ]
  },
  {
   "cell_type": "code",
   "execution_count": 44,
   "metadata": {},
   "outputs": [
    {
     "data": {
      "text/plain": [
       "21"
      ]
     },
     "execution_count": 44,
     "metadata": {},
     "output_type": "execute_result"
    }
   ],
   "source": [
    "#Plot count per points\n",
    "len(df_limit[\"points\"].unique())"
   ]
  },
  {
   "cell_type": "code",
   "execution_count": 35,
   "metadata": {},
   "outputs": [
    {
     "data": {
      "text/plain": [
       "<matplotlib.axes._subplots.AxesSubplot at 0x219ed4fecf8>"
      ]
     },
     "execution_count": 35,
     "metadata": {},
     "output_type": "execute_result"
    },
    {
     "data": {
      "image/png": "[encoded data removed]",
      "text/plain": [
       "<Figure size 432x288 with 1 Axes>"
      ]
     },
     "metadata": {},
     "output_type": "display_data"
    }
   ],
   "source": [
    "#Check mean for top 10 varieties and top 10 countries (by count of wines in the dataset)\n",
    "var_t10=df_limit[\"variety\"].value_counts().head(10)\n",
    "cny_t10=df_limit[\"country\"].value_counts().head(10)\n",
    "\n",
    "#Subset for Top 10 varieties\n",
    "df_var_t10=df_limit.loc[(True if x in list(var_t10.index) else False for x in df_limit[\"variety\"]),:]\n",
    "\n",
    "#Subset for Top 10 countries\n",
    "df_cny_t10=df_var_t10.loc[(True if x in list(cny_t10.index) else False for x in df_var_t10[\"country\"]),:]\n",
    "\n",
    "var_pr_mn=df_cny_t10.groupby(\"variety\")[\"price\"].mean()\n",
    "var_pt_mn=df_cny_t10.groupby(\"variety\")[\"points\"].mean()\n",
    "df_var_stats=pd.DataFrame(var_pr_mn).merge(pd.DataFrame(var_pt_mn), on=\"variety\").reset_index()\n",
    "\n",
    "#plt.scatter(df_var_stats[\"price\"], df_var_stats[\"points\"], marker=\"o\", facecolors=\"b\", edgecolors=\"black\", alpha=0.75)\n",
    "df_var_stats.plot.scatter(\"price\",\"points\")"
   ]
  },
  {
   "cell_type": "code",
   "execution_count": 43,
   "metadata": {},
   "outputs": [
    {
     "data": {
      "text/plain": [
       "<matplotlib.axes._subplots.AxesSubplot at 0x219e95e2b70>"
      ]
     },
     "execution_count": 43,
     "metadata": {},
     "output_type": "execute_result"
    },
    {
     "data": {
      "image/png": "[encoded data removed]",
      "text/plain": [
       "<Figure size 432x288 with 1 Axes>"
      ]
     },
     "metadata": {},
     "output_type": "display_data"
    }
   ],
   "source": [
    "df_limit[(df_limit[\"country\"]==\"US\") & (df_limit[\"variety\"]==\"Chardonnay\")].plot.scatter(\"price\",\"points\")"
   ]
  },
  {
   "cell_type": "code",
   "execution_count": null,
   "metadata": {},
   "outputs": [],
   "source": [
    "char_data_us=df_limit.loc[(df_limit['variety'] == \"Chardonnay\") & (df_limit['country'] == \"US\"),:]\n",
    "#print(char_data.head(10))\n",
    "for country in \n",
    "plt.scatter(char_data_us[\"price\"], char_data_us[\"points\"], marker=\"o\", facecolors=\"b\", edgecolors=\"black\", alpha=0.75)\n",
    "char_data_us[\"price\"].corr(char_data_us[\"points\"])"
   ]
  },
  {
   "cell_type": "code",
   "execution_count": null,
   "metadata": {},
   "outputs": [],
   "source": [
    "char_data[char_data[\"price\"]<100.][\"price\"].plot(kind='hist',bins=100)"
   ]
  },
  {
   "cell_type": "code",
   "execution_count": null,
   "metadata": {},
   "outputs": [],
   "source": [
    "char_data['price'].std()"
   ]
  },
  {
   "cell_type": "code",
   "execution_count": null,
   "metadata": {},
   "outputs": [],
   "source": [
    "char_data_2 = char_data[char_data[\"price\"]<(char_data['price'].std()*3.0)][\"price\"]"
   ]
  },
  {
   "cell_type": "code",
   "execution_count": null,
   "metadata": {},
   "outputs": [],
   "source": [
    "char_data_2.plot(kind='hist',bins=100)"
   ]
  },
  {
   "cell_type": "code",
   "execution_count": null,
   "metadata": {},
   "outputs": [],
   "source": []
  }
 ],
 "metadata": {
  "anaconda-cloud": {},
  "kernelspec": {
   "display_name": "Python 3",
   "language": "python",
   "name": "python3"
  },
  "language_info": {
   "codemirror_mode": {
    "name": "ipython",
    "version": 3
   },
   "file_extension": ".py",
   "mimetype": "text/x-python",
   "name": "python",
   "nbconvert_exporter": "python",
   "pygments_lexer": "ipython3",
   "version": "3.6.5"
  }
 },
 "nbformat": 4,
 "nbformat_minor": 1
}
