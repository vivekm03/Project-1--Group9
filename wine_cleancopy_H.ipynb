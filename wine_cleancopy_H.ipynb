{
 "cells": [
  {
   "cell_type": "code",
   "execution_count": 1,
   "metadata": {},
   "outputs": [],
   "source": [
    "#General plan for analysis of wine data\n",
    "#Section 1: Data exploration and cleaning\n",
    "#Section 2: Data description\n",
    "#Section 3: User interface\n",
    "#Section 4: Data analysis\n",
    "#Section 5: Scope for future analysis"
   ]
  },
  {
   "cell_type": "code",
   "execution_count": 2,
   "metadata": {},
   "outputs": [],
   "source": [
    "#Import dependencies\n",
    "import pandas as pd\n",
    "import numpy as np\n",
    "import random\n",
    "import matplotlib.pyplot as plt\n",
    "import datetime\n",
    "import seaborn as sns\n",
    "import pymsgbox\n",
    "import tkinter\n",
    "from tkinter import messagebox\n",
    "\n",
    "\n"
   ]
  },
  {
   "cell_type": "code",
   "execution_count": 3,
   "metadata": {},
   "outputs": [
    {
     "data": {
      "text/html": [
       "<div>\n",
       "<style scoped>\n",
       "    .dataframe tbody tr th:only-of-type {\n",
       "        vertical-align: middle;\n",
       "    }\n",
       "\n",
       "    .dataframe tbody tr th {\n",
       "        vertical-align: top;\n",
       "    }\n",
       "\n",
       "    .dataframe thead th {\n",
       "        text-align: right;\n",
       "    }\n",
       "</style>\n",
       "<table border=\"1\" class=\"dataframe\">\n",
       "  <thead>\n",
       "    <tr style=\"text-align: right;\">\n",
       "      <th></th>\n",
       "      <th>Unnamed: 0</th>\n",
       "      <th>country</th>\n",
       "      <th>description</th>\n",
       "      <th>designation</th>\n",
       "      <th>points</th>\n",
       "      <th>price</th>\n",
       "      <th>province</th>\n",
       "      <th>region_1</th>\n",
       "      <th>region_2</th>\n",
       "      <th>variety</th>\n",
       "      <th>winery</th>\n",
       "    </tr>\n",
       "  </thead>\n",
       "  <tbody>\n",
       "    <tr>\n",
       "      <th>0</th>\n",
       "      <td>0</td>\n",
       "      <td>US</td>\n",
       "      <td>This tremendous 100% varietal wine hails from ...</td>\n",
       "      <td>Martha's Vineyard</td>\n",
       "      <td>96</td>\n",
       "      <td>235.0</td>\n",
       "      <td>California</td>\n",
       "      <td>Napa Valley</td>\n",
       "      <td>Napa</td>\n",
       "      <td>Cabernet Sauvignon</td>\n",
       "      <td>Heitz</td>\n",
       "    </tr>\n",
       "    <tr>\n",
       "      <th>1</th>\n",
       "      <td>1</td>\n",
       "      <td>Spain</td>\n",
       "      <td>Ripe aromas of fig, blackberry and cassis are ...</td>\n",
       "      <td>Carodorum Selección Especial Reserva</td>\n",
       "      <td>96</td>\n",
       "      <td>110.0</td>\n",
       "      <td>Northern Spain</td>\n",
       "      <td>Toro</td>\n",
       "      <td>NaN</td>\n",
       "      <td>Tinta de Toro</td>\n",
       "      <td>Bodega Carmen Rodríguez</td>\n",
       "    </tr>\n",
       "    <tr>\n",
       "      <th>2</th>\n",
       "      <td>2</td>\n",
       "      <td>US</td>\n",
       "      <td>Mac Watson honors the memory of a wine once ma...</td>\n",
       "      <td>Special Selected Late Harvest</td>\n",
       "      <td>96</td>\n",
       "      <td>90.0</td>\n",
       "      <td>California</td>\n",
       "      <td>Knights Valley</td>\n",
       "      <td>Sonoma</td>\n",
       "      <td>Sauvignon Blanc</td>\n",
       "      <td>Macauley</td>\n",
       "    </tr>\n",
       "    <tr>\n",
       "      <th>3</th>\n",
       "      <td>3</td>\n",
       "      <td>US</td>\n",
       "      <td>This spent 20 months in 30% new French oak, an...</td>\n",
       "      <td>Reserve</td>\n",
       "      <td>96</td>\n",
       "      <td>65.0</td>\n",
       "      <td>Oregon</td>\n",
       "      <td>Willamette Valley</td>\n",
       "      <td>Willamette Valley</td>\n",
       "      <td>Pinot Noir</td>\n",
       "      <td>Ponzi</td>\n",
       "    </tr>\n",
       "    <tr>\n",
       "      <th>4</th>\n",
       "      <td>4</td>\n",
       "      <td>France</td>\n",
       "      <td>This is the top wine from La Bégude, named aft...</td>\n",
       "      <td>La Brûlade</td>\n",
       "      <td>95</td>\n",
       "      <td>66.0</td>\n",
       "      <td>Provence</td>\n",
       "      <td>Bandol</td>\n",
       "      <td>NaN</td>\n",
       "      <td>Provence red blend</td>\n",
       "      <td>Domaine de la Bégude</td>\n",
       "    </tr>\n",
       "  </tbody>\n",
       "</table>\n",
       "</div>"
      ],
      "text/plain": [
       "   Unnamed: 0 country                                        description  \\\n",
       "0           0      US  This tremendous 100% varietal wine hails from ...   \n",
       "1           1   Spain  Ripe aromas of fig, blackberry and cassis are ...   \n",
       "2           2      US  Mac Watson honors the memory of a wine once ma...   \n",
       "3           3      US  This spent 20 months in 30% new French oak, an...   \n",
       "4           4  France  This is the top wine from La Bégude, named aft...   \n",
       "\n",
       "                            designation  points  price        province  \\\n",
       "0                     Martha's Vineyard      96  235.0      California   \n",
       "1  Carodorum Selección Especial Reserva      96  110.0  Northern Spain   \n",
       "2         Special Selected Late Harvest      96   90.0      California   \n",
       "3                               Reserve      96   65.0          Oregon   \n",
       "4                            La Brûlade      95   66.0        Provence   \n",
       "\n",
       "            region_1           region_2             variety  \\\n",
       "0        Napa Valley               Napa  Cabernet Sauvignon   \n",
       "1               Toro                NaN       Tinta de Toro   \n",
       "2     Knights Valley             Sonoma     Sauvignon Blanc   \n",
       "3  Willamette Valley  Willamette Valley          Pinot Noir   \n",
       "4             Bandol                NaN  Provence red blend   \n",
       "\n",
       "                    winery  \n",
       "0                    Heitz  \n",
       "1  Bodega Carmen Rodríguez  \n",
       "2                 Macauley  \n",
       "3                    Ponzi  \n",
       "4     Domaine de la Bégude  "
      ]
     },
     "execution_count": 3,
     "metadata": {},
     "output_type": "execute_result"
    }
   ],
   "source": [
    "#Read CSV file\n",
    "df_wine = pd.read_csv('wine_150k.csv')\n",
    "df_wine.head()"
   ]
  },
  {
   "cell_type": "code",
   "execution_count": 4,
   "metadata": {},
   "outputs": [
    {
     "data": {
      "image/png": "[encoded data removed]",
      "text/plain": [
       "<Figure size 432x288 with 1 Axes>"
      ]
     },
     "metadata": {},
     "output_type": "display_data"
    }
   ],
   "source": [
    "#Section 1: Data exploration and cleaning - Removing null values and columns\n",
    "#How complete is our data - look at heat map\n",
    "sns.heatmap(df_wine.isnull(),yticklabels=False, cbar=False, cmap='viridis')\n",
    "plt.show()"
   ]
  },
  {
   "cell_type": "code",
   "execution_count": 5,
   "metadata": {},
   "outputs": [
    {
     "data": {
      "image/png": "[encoded data removed]",
      "text/plain": [
       "<Figure size 432x288 with 1 Axes>"
      ]
     },
     "metadata": {},
     "output_type": "display_data"
    }
   ],
   "source": [
    "#Section 1: Data exploration and cleaning - Removing null values and columns\n",
    "#Get rid of columns with a lot of missing data that we are not analyzing for now and rows where price is missing\n",
    "df_wine_nm=df_wine.drop(['Unnamed: 0','designation','region_1','region_2'],axis=1)\n",
    "df_wine_nm.dropna(subset=[\"price\"], inplace=True)\n",
    "#re-check heatmap on clean data\n",
    "sns.heatmap(df_wine_nm.isnull(),yticklabels=False, cbar=False, cmap='viridis')\n",
    "plt.show()"
   ]
  },
  {
   "cell_type": "code",
   "execution_count": 6,
   "metadata": {},
   "outputs": [
    {
     "name": "stdout",
     "output_type": "stream",
     "text": [
      "              points          price\n",
      "count  137235.000000  137235.000000\n",
      "mean       87.787919      33.131482\n",
      "std         3.221680      36.322536\n",
      "min        80.000000       4.000000\n",
      "25%        86.000000      16.000000\n",
      "50%        88.000000      24.000000\n",
      "75%        90.000000      40.000000\n",
      "max       100.000000    2300.000000\n",
      "----------------------------------------------------\n",
      "Number of varieties of wine in dataset: 619\n",
      "Number of countries represented in dataset: 47\n",
      "----------------------------------------------------\n",
      "Price and Points scatter plot\n"
     ]
    },
    {
     "data": {
      "image/png": "[encoded data removed]",
      "text/plain": [
       "<Figure size 432x288 with 1 Axes>"
      ]
     },
     "metadata": {},
     "output_type": "display_data"
    },
    {
     "name": "stdout",
     "output_type": "stream",
     "text": [
      "----------------------------------------------------\n",
      "Set upper limit for price\n",
      "Here are the percentiles for price:\n",
      "0.80     45.0\n",
      "0.90     60.0\n",
      "0.95     80.0\n",
      "0.99    150.0\n",
      "Name: price, dtype: float64\n",
      "Subset data to 99 percent \n",
      " New data describe\n",
      "              points          price\n",
      "count  135893.000000  135893.000000\n",
      "mean       87.727344      30.776317\n",
      "std         3.167235      22.146102\n",
      "min        80.000000       4.000000\n",
      "25%        86.000000      16.000000\n",
      "50%        88.000000      24.000000\n",
      "75%        90.000000      40.000000\n",
      "max       100.000000     150.000000\n",
      "----------------------------------------------------\n",
      "Percentage counts of top 10 countries:\n",
      "               country\n",
      "US           45.575768\n",
      "Italy        13.632550\n",
      "France       10.455669\n",
      "Spain         5.925468\n",
      "Chile         4.230690\n",
      "Argentina     4.101907\n",
      "Australia     3.563964\n",
      "Portugal      3.051778\n",
      "New Zealand   2.259213\n",
      "Austria       1.825032\n",
      "Percentage of data captured looking at top 10 countries: country    94.622042\n",
      "dtype: float64\n",
      "----------------------------------------------------\n",
      "Percentage counts of top 20 variety:\n",
      "                            variety\n",
      "Pinot Noir                10.345310\n",
      "Chardonnay                10.246539\n",
      "Cabernet Sauvignon         9.384819\n",
      "Red Blend                  6.747550\n",
      "Sauvignon Blanc            4.383263\n",
      "Syrah                      4.261160\n",
      "Merlot                     3.695754\n",
      "Bordeaux-style Red Blend   3.275004\n",
      "Zinfandel                  2.949137\n",
      "Riesling                   2.422616\n",
      "Malbec                     2.390730\n",
      "Sangiovese                 2.225074\n",
      "Tempranillo                1.921761\n",
      "Rosé                       1.841655\n",
      "White Blend                1.758438\n",
      "Portuguese Red             1.405351\n",
      "Sparkling Blend            1.364131\n",
      "Shiraz                     1.265360\n",
      "Nebbiolo                   1.147923\n",
      "Rhône-style Red Blend      1.119148\n",
      "Percentage of data captured looking at top 20 wine varieties in top 10 countries: variety    74.150723\n",
      "dtype: float64\n"
     ]
    }
   ],
   "source": [
    "#Section 1: Data exploration and cleaning :Removing outliers and subsetting data\n",
    "print(df_wine_nm.describe())\n",
    "print(\"----------------------------------------------------\")\n",
    "print(f'Number of varieties of wine in dataset: {len(df_wine_nm[\"variety\"].unique())}')\n",
    "print(f'Number of countries represented in dataset: {len(df_wine_nm[\"country\"].unique())}')\n",
    "print(\"----------------------------------------------------\")\n",
    "\n",
    "#look at data ranges for setting upper limit\n",
    "print(\"Price and Points scatter plot\")\n",
    "df_wine_nm.plot.scatter(\"points\",\"price\")\n",
    "plt.show()\n",
    "print(\"----------------------------------------------------\")\n",
    "\n",
    "#Get 95 percentile of price to subset data\n",
    "print(\"Set upper limit for price\")\n",
    "print('Here are the percentiles for price:')\n",
    "print( df_wine_nm[\"price\"].quantile([0.80, 0.90, 0.95, 0.99]))\n",
    "print(\"Subset data to 99 percent \\n New data describe\")\n",
    "df_ul = df_wine_nm[df_wine_nm[\"price\"] <= df_wine_nm[\"price\"].quantile(0.99)]\n",
    "print(df_ul.describe())\n",
    "print(\"----------------------------------------------------\")\n",
    "\n",
    "# Looking at top 10 countries\n",
    "print('Percentage counts of top 10 countries:')\n",
    "s_pct_top10=pd.DataFrame(df_ul['country'].value_counts(normalize=True) * 100).head(10)\n",
    "print (s_pct_top10)\n",
    "pct_top10=s_pct_top10.sum()\n",
    "print(f'Percentage of data captured looking at top 10 countries: {pct_top10}')\n",
    "print(\"----------------------------------------------------\")\n",
    "\n",
    "# Looking at top 20 variety of wines among the top 10 countries\n",
    "print('Percentage counts of top 20 variety:')\n",
    "df_ul_t20v=df_ul.loc[(True if x in list(s_pct_top10.index) else False for x in df_ul[\"country\"]),:]\n",
    "s_pct_top20v=pd.DataFrame(df_ul_t20v['variety'].value_counts(normalize=True) * 100).head(20)\n",
    "print (s_pct_top20v)\n",
    "pct_top20v=s_pct_top20v.sum()\n",
    "print(f'Percentage of data captured looking at top 20 wine varieties in top 10 countries: {pct_top20v}')"
   ]
  },
  {
   "cell_type": "code",
   "execution_count": 7,
   "metadata": {},
   "outputs": [
    {
     "name": "stderr",
     "output_type": "stream",
     "text": [
      "/anaconda3/lib/python3.6/site-packages/ipykernel_launcher.py:7: SettingWithCopyWarning: \n",
      "A value is trying to be set on a copy of a slice from a DataFrame.\n",
      "Try using .loc[row_indexer,col_indexer] = value instead\n",
      "\n",
      "See the caveats in the documentation: http://pandas.pydata.org/pandas-docs/stable/indexing.html#indexing-view-versus-copy\n",
      "  import sys\n",
      "/anaconda3/lib/python3.6/site-packages/ipykernel_launcher.py:8: SettingWithCopyWarning: \n",
      "A value is trying to be set on a copy of a slice from a DataFrame.\n",
      "Try using .loc[row_indexer,col_indexer] = value instead\n",
      "\n",
      "See the caveats in the documentation: http://pandas.pydata.org/pandas-docs/stable/indexing.html#indexing-view-versus-copy\n",
      "  \n",
      "/anaconda3/lib/python3.6/site-packages/ipykernel_launcher.py:13: SettingWithCopyWarning: \n",
      "A value is trying to be set on a copy of a slice from a DataFrame.\n",
      "Try using .loc[row_indexer,col_indexer] = value instead\n",
      "\n",
      "See the caveats in the documentation: http://pandas.pydata.org/pandas-docs/stable/indexing.html#indexing-view-versus-copy\n",
      "  del sys.path[0]\n",
      "/anaconda3/lib/python3.6/site-packages/ipykernel_launcher.py:16: SettingWithCopyWarning: \n",
      "A value is trying to be set on a copy of a slice from a DataFrame.\n",
      "Try using .loc[row_indexer,col_indexer] = value instead\n",
      "\n",
      "See the caveats in the documentation: http://pandas.pydata.org/pandas-docs/stable/indexing.html#indexing-view-versus-copy\n",
      "  app.launch_new_instance()\n"
     ]
    },
    {
     "data": {
      "image/png": "[encoded data removed]",
      "text/plain": [
       "<Figure size 576x576 with 1 Axes>"
      ]
     },
     "metadata": {},
     "output_type": "display_data"
    },
    {
     "name": "stderr",
     "output_type": "stream",
     "text": [
      "/anaconda3/lib/python3.6/site-packages/ipykernel_launcher.py:22: SettingWithCopyWarning: \n",
      "A value is trying to be set on a copy of a slice from a DataFrame.\n",
      "Try using .loc[row_indexer,col_indexer] = value instead\n",
      "\n",
      "See the caveats in the documentation: http://pandas.pydata.org/pandas-docs/stable/indexing.html#indexing-view-versus-copy\n"
     ]
    },
    {
     "data": {
      "image/png": "[encoded data removed]",
      "text/plain": [
       "<Figure size 576x576 with 1 Axes>"
      ]
     },
     "metadata": {},
     "output_type": "display_data"
    }
   ],
   "source": [
    "#Section 2: Data description - Binning price and points\n",
    "#Create points and price category bins in data for analysis\n",
    "#Point Binning\n",
    "binspo1 = [80,85,90,95,101] \n",
    "labelspo1= ['Bronze','Silver','Gold','Platinum']\n",
    "labelspo2= ['80-85','85-90','90-95','95-100']\n",
    "df_ul['category'] = pd.cut(df_ul['points'], bins=binspo1 , labels= labelspo1)\n",
    "df_ul['points_cat'] = pd.cut(df_ul['points'], bins=binspo1 , labels= labelspo2)\n",
    "\n",
    "#Price Binning\n",
    "binspr1=[0,10,20,30,40,50,60,80,100,500]\n",
    "labelspr1=[\"<10\", \"10-20\",\"20-30\",\"30-40\",\"40-50\",\"50-60\",\"60-80\",\"80-100\",\">100\"]\n",
    "df_ul[\"price_cat\"] = pd.cut(df_ul[\"price\"], binspr1, labels=labelspr1)\n",
    "\n",
    "#Create 'Other' category for country if not in top 9\n",
    "df_ul['country_cat'] = df_ul['country'].apply(lambda x: x if x in list(s_pct_top10.index) else 'Other')\n",
    "plotcc=df_ul['country_cat'].value_counts().plot.pie(figsize=(8,8), autopct='%1.0f%%', pctdistance=0.9)\n",
    "plt.title('Wine Counts for Top 10 countries', weight='bold', size=10)\n",
    "plt.show()\n",
    "\n",
    "#Create 'Other' category for variety if not in top 20\n",
    "df_ul['variety_cat'] = df_ul['variety'].apply(lambda x: x if x in list(s_pct_top20v.index) else 'Other')\n",
    "plotvc=df_ul['variety_cat'].value_counts().plot.pie(figsize=(8,8), pctdistance=0.9)\n",
    "plt.title('Wine Counts for Top 20 variety of wines in Top 10 countries', weight='bold', size=10)\n",
    "plt.show()"
   ]
  },
  {
   "cell_type": "code",
   "execution_count": 8,
   "metadata": {},
   "outputs": [
    {
     "name": "stdout",
     "output_type": "stream",
     "text": [
      "Welcome to the House of Wines! Here are some Wines from around the World:\n",
      "['Spain' 'US' 'France' 'Italy' 'New Zealand' 'Bulgaria' 'Argentina'\n",
      " 'Australia' 'Portugal' 'Israel' 'South Africa' 'Greece' 'Chile' 'Morocco'\n",
      " 'Romania' 'Germany' 'Canada' 'Moldova' 'Hungary' 'Austria' 'Croatia'\n",
      " 'Slovenia' nan 'India' 'Turkey' 'Macedonia' 'Lebanon' 'Serbia' 'Uruguay'\n",
      " 'Switzerland' 'Albania' 'Bosnia and Herzegovina' 'Brazil' 'Cyprus'\n",
      " 'Lithuania' 'Japan' 'China' 'South Korea' 'Ukraine' 'England' 'Mexico'\n",
      " 'Georgia' 'Montenegro' 'Luxembourg' 'Slovakia' 'Czech Republic'\n",
      " 'US-France']\n",
      "Please select the Country you are specifically looking for a wine from:US\n",
      "You selected: US\n"
     ]
    }
   ],
   "source": [
    "#test = messagebox.askyesno(\"Confirm Access\",\"Would you like to help us in searching of a better Wine for you?\")\n",
    "test_1 = pymsgbox.confirm(text='Would you like to help us in searching of a better Wine for you?\"', title='Choose One', buttons=['Yes', 'No'])\n",
    "#shop_wine = input(\"Would you like to help us in searching of a better Wine for you?\")\n",
    "#wishlist = []\n",
    "if test_1 == \"Yes\":\n",
    "    print(\"Welcome to the House of Wines! Here are some Wines from around the World:\")\n",
    "    country = df_ul['country'].unique()\n",
    "    print(country)\n",
    "    pick = input(\"Please select the Country you are specifically looking for a wine from:\")\n",
    "    print(\"You selected:\", pick)    \n",
    "else:\n",
    "    print(\"No data found!!!\")\n",
    "\n"
   ]
  },
  {
   "cell_type": "code",
   "execution_count": 9,
   "metadata": {},
   "outputs": [
    {
     "name": "stdout",
     "output_type": "stream",
     "text": [
      "['Sauvignon Blanc' 'Pinot Noir' 'Chardonnay' 'Rosé' 'Syrah' 'Other'\n",
      " 'Cabernet Sauvignon' 'Riesling' 'White Blend' 'Sparkling Blend'\n",
      " 'Zinfandel' 'Rhône-style Red Blend' 'Sangiovese'\n",
      " 'Bordeaux-style Red Blend' 'Malbec' 'Merlot' 'Red Blend' 'Tempranillo'\n",
      " 'Nebbiolo' 'Shiraz']\n"
     ]
    }
   ],
   "source": [
    "picked_country = df_ul.loc[df_ul[\"country\"] == pick]\n",
    "#picked_country\n",
    "user_pick_variety = picked_country['variety_cat'].unique()\n",
    "print(user_pick_variety)"
   ]
  },
  {
   "cell_type": "code",
   "execution_count": 10,
   "metadata": {},
   "outputs": [
    {
     "name": "stdout",
     "output_type": "stream",
     "text": [
      "Please enter variety of Wine:Pinot Noir\n",
      "User choose: Pinot Noir\n"
     ]
    }
   ],
   "source": [
    "user_choice = input(\"Please enter variety of Wine:\")\n",
    "print (\"User choose:\", user_choice)"
   ]
  },
  {
   "cell_type": "code",
   "execution_count": 11,
   "metadata": {},
   "outputs": [
    {
     "name": "stdout",
     "output_type": "stream",
     "text": [
      "       country                                        description  points  \\\n",
      "3           US  This spent 20 months in 30% new French oak, an...      96   \n",
      "8           US  This re-named vineyard was formerly bottled as...      95   \n",
      "9           US  The producer sources from two blocks of the vi...      95   \n",
      "11          US  From 18-year-old vines, this supple well-balan...      95   \n",
      "12          US  A standout even in this terrific lineup of 201...      95   \n",
      "19          US  This fresh and lively medium-bodied wine is be...      95   \n",
      "24          US  San Jose-based producer Adam Comartin heads 1,...      95   \n",
      "26          US  Bergström has made a Shea designate since 2003...      94   \n",
      "27          US  Focused and dense, this intense wine captures ...      94   \n",
      "28          US  Cranberry, baked rhubarb, anise and crushed sl...      94   \n",
      "68          US  Big, bold, dark and chewy, this builds upon su...      91   \n",
      "71          US  This wine draws from a handful of tremendous v...      91   \n",
      "75          US  An elegant blend from different estate vineyar...      91   \n",
      "80          US  Generous black-cherry fruit anchors this barre...      91   \n",
      "88          US  The first Pinot Noir release from this produce...      91   \n",
      "120         US  Let this burly, big-boned beauty open to fully...      91   \n",
      "121         US  This small-quantity selection from within the ...      91   \n",
      "124         US  This wine is tasty, tangy and nervy, bringing ...      91   \n",
      "125         US  This medium-bodied wine has a compelling blend...      91   \n",
      "145         US  Red-cherry and strawberry aromas meld with ric...      90   \n",
      "150         US  Reflecting the vintage, this Pinot is light an...      89   \n",
      "161         US  A blend of fruit from three Rogue Valley sites...      89   \n",
      "165         US  Tightly focused, as is often true of single-vi...      89   \n",
      "170         US  Rhubarb, cola and pencil shavings emerge from ...      89   \n",
      "173         US  Made from what Californians call the Pommard c...      89   \n",
      "182         US  Super earthy, in the classic damp forest-floor...      88   \n",
      "246         US  Toasty scents and flavors of the barrels (40% ...      88   \n",
      "252         US  Sourced from the estate vineyard—the same vine...      88   \n",
      "253         US  The other realm of the coin from Brown Ranch, ...      88   \n",
      "257         US  Smells of rust, iron, tomato and untracked pep...      88   \n",
      "...        ...                                                ...     ...   \n",
      "149963      US  This opens with tart, tight leaf and beetroot ...      87   \n",
      "150025      US  Delicious in deep, satisfying flavor, this win...      87   \n",
      "150028      US  This pleasant effort is light and cherry-flavo...      87   \n",
      "150029      US  From the pale color you might expect a lightwe...      87   \n",
      "150060      US  Although it's less pricey than the winery's En...      87   \n",
      "150063      US  A bit divisive among our panelists, with one f...      87   \n",
      "150068      US  A very nice blend, midway between a reserve an...      87   \n",
      "150088      US  I happened to taste this right after a Pinot t...      86   \n",
      "150135      US  Herbal flavors descend into stemminess, with t...      86   \n",
      "150181      US  Thick and dense in the mouth, with candied fla...      86   \n",
      "150185      US  Pungent, minty and quite tannic, this young wi...      86   \n",
      "150201      US  Showcases its terroir in the brisk acidity and...      86   \n",
      "150239      US  A sturdy wine, with a bouquet of dark cherry, ...      88   \n",
      "150242      US  Very ripe in the mouth, with mounds of black c...      85   \n",
      "150263      US  Moderately priced Pinot is getting better, as ...      85   \n",
      "150327      US  This is a fun wine, with flavors like cherry c...      84   \n",
      "150380      US  Siduri's basic Russian River bottling is very ...      84   \n",
      "150484      US  The dominant aromas are smoke, toast, and cinn...      84   \n",
      "150503      US  The dominant aromas are smoke, toast and cinna...      84   \n",
      "150525      US  A lightweight Pinot that's actually marketed a...      83   \n",
      "150764      US  Specially selected lots account for this top-o...      93   \n",
      "150772      US  Cherry-berry fruit, spice, a velvety texture a...      92   \n",
      "150777      US  One of the first ‘99 Pinots to come out, this ...      91   \n",
      "150782      US  The workhorse wine from this Pinot master is p...      90   \n",
      "150787      US  This wine become pretty pricey but that's beca...      90   \n",
      "150803      US  Here's a wine with great bones: nicely structu...      88   \n",
      "150835      US  A little earthy, with plummy aromas accompanie...      86   \n",
      "150879      US  A heavy wine, atypical of the appellation, whi...      83   \n",
      "150889      US  A bizarre style of wine. The aromas are Port-l...      82   \n",
      "150896      US  Some raspberry fruit in the aroma, but things ...      82   \n",
      "\n",
      "        price    province     variety                   winery  category  \\\n",
      "3        65.0      Oregon  Pinot Noir                    Ponzi  Platinum   \n",
      "8        65.0      Oregon  Pinot Noir                Bergström      Gold   \n",
      "9        60.0  California  Pinot Noir                Blue Farm      Gold   \n",
      "11       48.0      Oregon  Pinot Noir   Patricia Green Cellars      Gold   \n",
      "12       48.0      Oregon  Pinot Noir   Patricia Green Cellars      Gold   \n",
      "19       75.0  California  Pinot Noir             Gary Farrell      Gold   \n",
      "24       45.0  California  Pinot Noir                 Comartin      Gold   \n",
      "26       62.0      Oregon  Pinot Noir                Bergström      Gold   \n",
      "27      105.0      Oregon  Pinot Noir                    Ponzi      Gold   \n",
      "28       60.0  California  Pinot Noir                     Roar      Gold   \n",
      "68       50.0      Oregon  Pinot Noir            Panther Creek      Gold   \n",
      "71       45.0  California  Pinot Noir                  Red Car      Gold   \n",
      "75       54.0      Oregon  Pinot Noir           Archery Summit      Gold   \n",
      "80       42.0      Oregon  Pinot Noir           Bethel Heights      Gold   \n",
      "88       65.0  California  Pinot Noir            Eleven Eleven      Gold   \n",
      "120      59.0  California  Pinot Noir                 MacPhail      Gold   \n",
      "121      49.0  California  Pinot Noir                Foursight      Gold   \n",
      "124      32.0  California  Pinot Noir                  Navarro      Gold   \n",
      "125      20.0  California  Pinot Noir                  Navarro      Gold   \n",
      "145      55.0  California  Pinot Noir                Goldeneye    Silver   \n",
      "150      50.0      Oregon  Pinot Noir                     Bomb    Silver   \n",
      "161      35.0      Oregon  Pinot Noir  Irvine Family Vineyards    Silver   \n",
      "165      36.0      Oregon  Pinot Noir             Silvan Ridge    Silver   \n",
      "170      42.0  California  Pinot Noir                  Sanford    Silver   \n",
      "173      49.0  California  Pinot Noir                Foursight    Silver   \n",
      "182      49.0  California  Pinot Noir                   Siduri    Silver   \n",
      "246      36.0      Oregon  Pinot Noir           Coeur de Terre    Silver   \n",
      "252      60.0      Oregon  Pinot Noir                     Roco    Silver   \n",
      "253      54.0  California  Pinot Noir               Saintsbury    Silver   \n",
      "257      61.0  California  Pinot Noir               Testarossa    Silver   \n",
      "...       ...         ...         ...                      ...       ...   \n",
      "149963   49.0      Oregon  Pinot Noir             Belle Vallée    Silver   \n",
      "150025   18.0  California  Pinot Noir                     Hahn    Silver   \n",
      "150028   19.0      Oregon  Pinot Noir             Silvan Ridge    Silver   \n",
      "150029   34.0  California  Pinot Noir               Testarossa    Silver   \n",
      "150060   18.0  California  Pinot Noir                Stephen's    Silver   \n",
      "150063   15.0  California  Pinot Noir   Gallo Family Vineyards    Silver   \n",
      "150068   28.0      Oregon  Pinot Noir                 Rex Hill    Silver   \n",
      "150088   10.0  California  Pinot Noir                 Meridian    Silver   \n",
      "150135   30.0      Oregon  Pinot Noir             Belle Vallée    Silver   \n",
      "150181   48.0  California  Pinot Noir      Loring Wine Company    Silver   \n",
      "150185   20.0      Oregon  Pinot Noir             Belle Vallée    Silver   \n",
      "150201   24.0  California  Pinot Noir                Stephen's    Silver   \n",
      "150239   16.0  California  Pinot Noir             Charles Krug    Silver   \n",
      "150242   18.0  California  Pinot Noir                  Kenwood    Bronze   \n",
      "150263   13.0  California  Pinot Noir                  Echelon    Bronze   \n",
      "150327   15.0      Oregon  Pinot Noir             Belle Vallée    Bronze   \n",
      "150380   26.0  California  Pinot Noir                   Siduri    Bronze   \n",
      "150484   35.0    New York  Pinot Noir     Castello di Borghese    Bronze   \n",
      "150503   35.0    New York  Pinot Noir                 Hargrave    Bronze   \n",
      "150525   10.0    New York  Pinot Noir     Castello di Borghese    Bronze   \n",
      "150764   30.0  California  Pinot Noir                    Schug      Gold   \n",
      "150772   18.0  California  Pinot Noir                    Schug      Gold   \n",
      "150777   25.0  California  Pinot Noir                   Acacia      Gold   \n",
      "150782   15.0  California  Pinot Noir                    Schug    Silver   \n",
      "150787   50.0  California  Pinot Noir               Iron Horse    Silver   \n",
      "150803   33.0  California  Pinot Noir            Flora Springs    Silver   \n",
      "150835   28.0  California  Pinot Noir                   Talley    Silver   \n",
      "150879   16.0  California  Pinot Noir                 Edmeades    Bronze   \n",
      "150889   35.0  California  Pinot Noir                   Lafond    Bronze   \n",
      "150896   10.0  California  Pinot Noir                  Camelot    Bronze   \n",
      "\n",
      "       points_cat price_cat country_cat variety_cat  \n",
      "3          95-100     60-80          US  Pinot Noir  \n",
      "8           90-95     60-80          US  Pinot Noir  \n",
      "9           90-95     50-60          US  Pinot Noir  \n",
      "11          90-95     40-50          US  Pinot Noir  \n",
      "12          90-95     40-50          US  Pinot Noir  \n",
      "19          90-95     60-80          US  Pinot Noir  \n",
      "24          90-95     40-50          US  Pinot Noir  \n",
      "26          90-95     60-80          US  Pinot Noir  \n",
      "27          90-95      >100          US  Pinot Noir  \n",
      "28          90-95     50-60          US  Pinot Noir  \n",
      "68          90-95     40-50          US  Pinot Noir  \n",
      "71          90-95     40-50          US  Pinot Noir  \n",
      "75          90-95     50-60          US  Pinot Noir  \n",
      "80          90-95     40-50          US  Pinot Noir  \n",
      "88          90-95     60-80          US  Pinot Noir  \n",
      "120         90-95     50-60          US  Pinot Noir  \n",
      "121         90-95     40-50          US  Pinot Noir  \n",
      "124         90-95     30-40          US  Pinot Noir  \n",
      "125         90-95     10-20          US  Pinot Noir  \n",
      "145         85-90     50-60          US  Pinot Noir  \n",
      "150         85-90     40-50          US  Pinot Noir  \n",
      "161         85-90     30-40          US  Pinot Noir  \n",
      "165         85-90     30-40          US  Pinot Noir  \n",
      "170         85-90     40-50          US  Pinot Noir  \n",
      "173         85-90     40-50          US  Pinot Noir  \n",
      "182         85-90     40-50          US  Pinot Noir  \n",
      "246         85-90     30-40          US  Pinot Noir  \n",
      "252         85-90     50-60          US  Pinot Noir  \n",
      "253         85-90     50-60          US  Pinot Noir  \n",
      "257         85-90     60-80          US  Pinot Noir  \n",
      "...           ...       ...         ...         ...  \n",
      "149963      85-90     40-50          US  Pinot Noir  \n",
      "150025      85-90     10-20          US  Pinot Noir  \n",
      "150028      85-90     10-20          US  Pinot Noir  \n",
      "150029      85-90     30-40          US  Pinot Noir  \n",
      "150060      85-90     10-20          US  Pinot Noir  \n",
      "150063      85-90     10-20          US  Pinot Noir  \n",
      "150068      85-90     20-30          US  Pinot Noir  \n",
      "150088      85-90       <10          US  Pinot Noir  \n",
      "150135      85-90     20-30          US  Pinot Noir  \n",
      "150181      85-90     40-50          US  Pinot Noir  \n",
      "150185      85-90     10-20          US  Pinot Noir  \n",
      "150201      85-90     20-30          US  Pinot Noir  \n",
      "150239      85-90     10-20          US  Pinot Noir  \n",
      "150242      80-85     10-20          US  Pinot Noir  \n",
      "150263      80-85     10-20          US  Pinot Noir  \n",
      "150327      80-85     10-20          US  Pinot Noir  \n",
      "150380      80-85     20-30          US  Pinot Noir  \n",
      "150484      80-85     30-40          US  Pinot Noir  \n",
      "150503      80-85     30-40          US  Pinot Noir  \n",
      "150525      80-85       <10          US  Pinot Noir  \n",
      "150764      90-95     20-30          US  Pinot Noir  \n",
      "150772      90-95     10-20          US  Pinot Noir  \n",
      "150777      90-95     20-30          US  Pinot Noir  \n",
      "150782      85-90     10-20          US  Pinot Noir  \n",
      "150787      85-90     40-50          US  Pinot Noir  \n",
      "150803      85-90     30-40          US  Pinot Noir  \n",
      "150835      85-90     20-30          US  Pinot Noir  \n",
      "150879      80-85     10-20          US  Pinot Noir  \n",
      "150889      80-85     30-40          US  Pinot Noir  \n",
      "150896      80-85       <10          US  Pinot Noir  \n",
      "\n",
      "[10264 rows x 12 columns]\n"
     ]
    }
   ],
   "source": [
    "user_choice_wine = picked_country[picked_country[\"variety_cat\"]== user_choice]\n",
    "print(user_choice_wine)"
   ]
  },
  {
   "cell_type": "code",
   "execution_count": 46,
   "metadata": {},
   "outputs": [
    {
     "name": "stdout",
     "output_type": "stream",
     "text": [
      "Please enter price Range of Wine:20-30\n",
      "User choose: 20-30\n",
      "       country  points  price    province     variety           winery  \\\n",
      "87736       US      94   28.0  California  Pinot Noir         Pessagno   \n",
      "52561       US      94   30.0  California  Pinot Noir         Adelaida   \n",
      "95246       US      93   30.0      Oregon  Pinot Noir       Scott Paul   \n",
      "21740       US      93   26.0  California  Pinot Noir         Melville   \n",
      "139452      US      93   25.0  California  Pinot Noir                X   \n",
      "13141       US      93   21.0  California  Pinot Noir   Felten Cellars   \n",
      "23846       US      93   30.0  California  Pinot Noir           Dolina   \n",
      "39845       US      93   30.0  California  Pinot Noir            Diora   \n",
      "13142       US      93   30.0  California  Pinot Noir             Hahn   \n",
      "70340       US      93   30.0      Oregon  Pinot Noir         Longplay   \n",
      "70346       US      93   30.0      Oregon  Pinot Noir       Scott Paul   \n",
      "42914       US      93   30.0  California  Pinot Noir     Of The Place   \n",
      "111672      US      93   25.0  California  Pinot Noir                X   \n",
      "12815       US      93   30.0  California  Pinot Noir            Diora   \n",
      "42909       US      93   25.0  California  Pinot Noir       Alta Maria   \n",
      "128406      US      93   24.0      Oregon  Pinot Noir          Thistle   \n",
      "128698      US      93   25.0  California  Pinot Noir           Artesa   \n",
      "71103       US      93   30.0  California  Pinot Noir         Landmark   \n",
      "109212      US      93   30.0  California  Pinot Noir  Domaine Chandon   \n",
      "131480      US      93   30.0      Oregon  Pinot Noir         Longplay   \n",
      "\n",
      "       category  \n",
      "87736      Gold  \n",
      "52561      Gold  \n",
      "95246      Gold  \n",
      "21740      Gold  \n",
      "139452     Gold  \n",
      "13141      Gold  \n",
      "23846      Gold  \n",
      "39845      Gold  \n",
      "13142      Gold  \n",
      "70340      Gold  \n",
      "70346      Gold  \n",
      "42914      Gold  \n",
      "111672     Gold  \n",
      "12815      Gold  \n",
      "42909      Gold  \n",
      "128406     Gold  \n",
      "128698     Gold  \n",
      "71103      Gold  \n",
      "109212     Gold  \n",
      "131480     Gold  \n"
     ]
    }
   ],
   "source": [
    "user_choice_price = input(\"Please enter price Range of Wine:\")\n",
    "print (\"User choose:\", user_choice_price)\n",
    "user_choice_price_1 = user_choice_wine[user_choice_wine[\"price_cat\"]== user_choice_price]\n",
    "user_choice_price_2 = user_choice_price_1.sort_values(by=[\"points\"], ascending=False).head(20)\n",
    "user_choice_price_3 = user_choice_price_2.drop(['description','country_cat','variety_cat','price_cat','points_cat'],axis=1)\n",
    "print(user_choice_price_3)"
   ]
  },
  {
   "cell_type": "code",
   "execution_count": 13,
   "metadata": {},
   "outputs": [],
   "source": [
    "#Section 2: Data description - Pie charts describing data"
   ]
  },
  {
   "cell_type": "code",
   "execution_count": 14,
   "metadata": {},
   "outputs": [
    {
     "data": {
      "image/png": "[encoded data removed]",
      "text/plain": [
       "<Figure size 432x288 with 1 Axes>"
      ]
     },
     "metadata": {},
     "output_type": "display_data"
    }
   ],
   "source": [
    "#Section 3: Data Analysis\n",
    "#Look at price categories of wines and get descriptive stats per range\n",
    "#Get counts of age groups\n",
    "df_pr_grp=df_ul.groupby(\"price_cat\")\n",
    "df_pr_grp_mean=df_pr_grp[\"points\"].mean()\n",
    "df_pr_grp_ct=df_pr_grp[\"points\"].count()\n",
    "df_pr_grp_stats=pd.DataFrame(df_pr_grp_mean).merge(pd.DataFrame(df_pr_grp_ct), on=\"price_cat\")\\\n",
    "    .rename(columns={\"points_x\":\"mean\", \"points_y\":\"ct\"}).reset_index()\n",
    "df_pr_grp_stats[\"mean_lab\"]=round(df_pr_grp_stats[\"mean\"],1).astype(str)\n",
    "\n",
    "#Create figure\n",
    "fig, ax=plt.subplots()\n",
    "x_axis=np.arange(1,len(df_pr_grp_stats)+1,1)\n",
    "y_ticks=np.arange(80,95,5)\n",
    "ax.set_ylim(80,95) \n",
    "\n",
    "plt.bar(x_axis, df_pr_grp_stats[\"mean\"], color='g', alpha=0.5, align=\"edge\", width=0.8)\n",
    "\n",
    "for i, d in enumerate(df_pr_grp_stats[\"price_cat\"]):\n",
    "        ax.text(x_axis[i], df_pr_grp_stats[\"mean\"][i] +.3, df_pr_grp_stats[\"mean_lab\"][i] ,color='black')\n",
    "        ax.text(x_axis[i], df_pr_grp_stats[\"mean\"][i] -1, df_pr_grp_stats[\"ct\"][i] ,color='black')\n",
    "        \n",
    "#Create tick marks and tick labels\n",
    "ax.set_xticks(x_axis+0.5)\n",
    "ax.set_xticklabels(df_pr_grp_stats[\"price_cat\"])\n",
    "ax.set_yticks(y_ticks)\n",
    "\n",
    "#Create Title, axes labels and gridlines\n",
    "plt.title(\"Mean Points for Price range\")\n",
    "plt.ylabel(\"Mean of Wine Points\")  \n",
    "plt.ylabel(\"Wine Price Ranges\")  \n",
    "plt.grid(which='major',axis=\"y\")"
   ]
  },
  {
   "cell_type": "code",
   "execution_count": 15,
   "metadata": {
    "scrolled": true
   },
   "outputs": [
    {
     "name": "stdout",
     "output_type": "stream",
     "text": [
      "country\n",
      "England         92.750000\n",
      "Austria         89.185081\n",
      "Germany         88.464176\n",
      "France          88.377886\n",
      "Italy           88.365074\n",
      "Canada          88.221649\n",
      "Slovenia        88.172840\n",
      "Morocco         88.166667\n",
      "Turkey          88.140000\n",
      "Portugal        88.138413\n",
      "Albania         88.000000\n",
      "US-France       88.000000\n",
      "Australia       87.811893\n",
      "US              87.796373\n",
      "Serbia          87.714286\n",
      "India           87.625000\n",
      "New Zealand     87.542671\n",
      "Switzerland     87.250000\n",
      "South Africa    87.211444\n",
      "Hungary         87.168889\n",
      "Name: points, dtype: float64\n",
      "country_cat\n",
      "Austria        89.185081\n",
      "France         88.377886\n",
      "Italy          88.365074\n",
      "Portugal       88.138413\n",
      "Australia      87.811893\n",
      "US             87.796373\n",
      "New Zealand    87.542671\n",
      "Other          87.309722\n",
      "Spain          86.555390\n",
      "Chile          86.283702\n",
      "Argentina      85.986365\n",
      "Name: points, dtype: float64\n"
     ]
    }
   ],
   "source": [
    "#Section 3: Data Analysis\n",
    "#Which country produces the best quality wines (highest points)\n",
    "df_cny_grp=df_ul.groupby(\"country\")\n",
    "df_cny_pts_mean=df_cny_grp[\"points\"].mean()\n",
    "df_cny_pts_ct=df_cny_grp[\"points\"].count()\n",
    "\n",
    "df_cnycat_grp=df_ul.groupby(\"country_cat\")\n",
    "df_cnycat_pts_mean=df_cnycat_grp[\"points\"].mean()\n",
    "\n",
    "print (df_cny_pts_mean.nlargest(20))\n",
    "print (df_cnycat_pts_mean.nlargest(11))"
   ]
  },
  {
   "cell_type": "code",
   "execution_count": 16,
   "metadata": {},
   "outputs": [
    {
     "ename": "NameError",
     "evalue": "name 'file50' is not defined",
     "output_type": "error",
     "traceback": [
      "\u001b[0;31m---------------------------------------------------------------------------\u001b[0m",
      "\u001b[0;31mNameError\u001b[0m                                 Traceback (most recent call last)",
      "\u001b[0;32m<ipython-input-16-4b3b90b2f93d>\u001b[0m in \u001b[0;36m<module>\u001b[0;34m()\u001b[0m\n\u001b[1;32m      7\u001b[0m \u001b[0;31m# if point between 95-100, assign random rating between 4.5 and 5\u001b[0m\u001b[0;34m\u001b[0m\u001b[0;34m\u001b[0m\u001b[0m\n\u001b[1;32m      8\u001b[0m \u001b[0;34m\u001b[0m\u001b[0m\n\u001b[0;32m----> 9\u001b[0;31m \u001b[0mfile50\u001b[0m\u001b[0;34m[\u001b[0m\u001b[0;34m'rating'\u001b[0m\u001b[0;34m]\u001b[0m\u001b[0;34m=\u001b[0m \u001b[0mfile50\u001b[0m\u001b[0;34m[\u001b[0m\u001b[0;34m'points'\u001b[0m\u001b[0;34m]\u001b[0m\u001b[0;34m\u001b[0m\u001b[0m\n\u001b[0m\u001b[1;32m     10\u001b[0m \u001b[0mfile50\u001b[0m\u001b[0;34m\u001b[0m\u001b[0m\n",
      "\u001b[0;31mNameError\u001b[0m: name 'file50' is not defined"
     ]
    }
   ],
   "source": [
    "# define method - ratings\n",
    "# create new column - 'ratings'\n",
    "# input points bin\n",
    "# if point between 80-85, assign random rating between 1 and 3\n",
    "# if point between 85-90, assign random rating between 2 and 4\n",
    "# if point between 90-95, assign random rating between 4 and 5\n",
    "# if point between 95-100, assign random rating between 4.5 and 5\n",
    "\n",
    "file50['rating']= file50['points']\n",
    "file50"
   ]
  },
  {
   "cell_type": "markdown",
   "metadata": {},
   "source": [
    "### Correlate, but randomize rating "
   ]
  },
  {
   "cell_type": "code",
   "execution_count": null,
   "metadata": {},
   "outputs": [],
   "source": [
    "rating_list = []\n",
    "np.random.seed(9)\n",
    "for ratings in file50['rating']:\n",
    "    \n",
    "    #if(ratings<85):\n",
    "     #   for price in file50['price']:\n",
    "    #      w_ratings = price/10 + (np.random.rand() * (4 - 2))\n",
    "    #        w_ratings=round(w_ratings,1)\n",
    "    #        rating_list.append(w_ratings)\n",
    "#print(rating_list)\n",
    "    \n",
    "    if (ratings<85):\n",
    "        w_ratings = 2+ (np.random.rand()*(3-1))\n",
    "        w_ratings= round(w_ratings,1)\n",
    "        rating_list.append(w_ratings)\n",
    "        \n",
    "    elif((ratings>=85) & (ratings<=90)):\n",
    "        w_ratings = 2 + (np.random.rand() * (4 - 2))\n",
    "        w_ratings=round(w_ratings,1)\n",
    "        rating_list.append(w_ratings)\n",
    "    \n",
    "    elif((ratings >=90) & (ratings<=95)):\n",
    "        w_ratings = 3 + (np.random.rand() * (5 - 3))\n",
    "        w_ratings=round(w_ratings,1)\n",
    "        rating_list.append(w_ratings)\n",
    "    \n",
    "    elif(ratings>95):\n",
    "        w_ratings = 4 + (np.random.rand() * (5 - 4))\n",
    "        w_ratings=round(w_ratings,1)\n",
    "        rating_list.append(w_ratings)"
   ]
  },
  {
   "cell_type": "code",
   "execution_count": null,
   "metadata": {},
   "outputs": [],
   "source": [
    "rating_list"
   ]
  },
  {
   "cell_type": "code",
   "execution_count": null,
   "metadata": {},
   "outputs": [],
   "source": [
    "label=['wine_ratings']\n",
    "new_df = pd.DataFrame(rating_list, columns =label)\n",
    "new_df"
   ]
  },
  {
   "cell_type": "code",
   "execution_count": null,
   "metadata": {},
   "outputs": [],
   "source": [
    "file50.columns\n",
    "file25=pd.concat([file50,new_df], axis=1)\n",
    "file25"
   ]
  },
  {
   "cell_type": "code",
   "execution_count": null,
   "metadata": {},
   "outputs": [],
   "source": [
    "file25.drop('rating', axis=1, inplace = True)\n",
    "file25"
   ]
  },
  {
   "cell_type": "code",
   "execution_count": null,
   "metadata": {},
   "outputs": [],
   "source": [
    "file25.count()"
   ]
  },
  {
   "cell_type": "code",
   "execution_count": null,
   "metadata": {},
   "outputs": [],
   "source": [
    "sns.heatmap(file25.isnull(),yticklabels=False, cbar=False, cmap='viridis')\n",
    "plt.show()"
   ]
  },
  {
   "cell_type": "code",
   "execution_count": null,
   "metadata": {},
   "outputs": [],
   "source": [
    "file25.dropna(how = 'any', inplace=True)"
   ]
  },
  {
   "cell_type": "code",
   "execution_count": null,
   "metadata": {},
   "outputs": [],
   "source": [
    "sns.heatmap(file25.isnull(),yticklabels=False, cbar=False, cmap='viridis')\n",
    "plt.show()"
   ]
  },
  {
   "cell_type": "code",
   "execution_count": null,
   "metadata": {},
   "outputs": [],
   "source": [
    "file25.count()"
   ]
  },
  {
   "cell_type": "code",
   "execution_count": null,
   "metadata": {},
   "outputs": [],
   "source": [
    "file25"
   ]
  },
  {
   "cell_type": "code",
   "execution_count": null,
   "metadata": {},
   "outputs": [],
   "source": [
    "user_id = []\n",
    "np.random.seed(7)\n",
    "for ids in file25['description']:\n",
    "    \n",
    "    if (len(ids)<25):\n",
    "        u_ids = np.random.randint(1,50)\n",
    "        user_id.append(u_ids)    \n",
    "    elif ((len(ids)>=25) & (len(ids)<50)):\n",
    "        u_ids = np.random.randint(50,100)\n",
    "        user_id.append(u_ids)\n",
    "    elif ((len(ids)>=50) & (len(ids)<=100)):\n",
    "        u_ids = np.random.randint(100,300)\n",
    "        user_id.append(u_ids)    \n",
    "    elif (len(ids)>100):\n",
    "        u_ids = np.random.randint(300,500)\n",
    "        user_id.append(u_ids)\n",
    "        "
   ]
  },
  {
   "cell_type": "markdown",
   "metadata": {},
   "source": [
    "### why did the # jumped to 178K?"
   ]
  },
  {
   "cell_type": "code",
   "execution_count": null,
   "metadata": {},
   "outputs": [],
   "source": [
    "len(user_id)"
   ]
  },
  {
   "cell_type": "code",
   "execution_count": null,
   "metadata": {
    "scrolled": false
   },
   "outputs": [],
   "source": [
    "label_df=['user_id']\n",
    "uid_df = pd.DataFrame(user_id, columns =label_df)\n",
    "uid_df.head()"
   ]
  },
  {
   "cell_type": "code",
   "execution_count": null,
   "metadata": {},
   "outputs": [],
   "source": [
    "file25=pd.concat([file25,uid_df], axis=1)\n",
    "file25"
   ]
  },
  {
   "cell_type": "code",
   "execution_count": null,
   "metadata": {},
   "outputs": [],
   "source": [
    "sns.heatmap(file25.isnull(),yticklabels=False, cbar=False, cmap='viridis')\n",
    "plt.show()"
   ]
  },
  {
   "cell_type": "code",
   "execution_count": null,
   "metadata": {},
   "outputs": [],
   "source": [
    "file25.count()"
   ]
  },
  {
   "cell_type": "code",
   "execution_count": null,
   "metadata": {},
   "outputs": [],
   "source": [
    "file25.dropna(how = 'any', inplace=True)\n",
    "file25.count()"
   ]
  },
  {
   "cell_type": "code",
   "execution_count": null,
   "metadata": {},
   "outputs": [],
   "source": [
    "sns.heatmap(file25.isnull(),yticklabels=False, cbar=False, cmap='viridis')\n",
    "plt.show()"
   ]
  },
  {
   "cell_type": "code",
   "execution_count": null,
   "metadata": {},
   "outputs": [],
   "source": [
    "file25.head()"
   ]
  },
  {
   "cell_type": "code",
   "execution_count": null,
   "metadata": {},
   "outputs": [],
   "source": [
    "file25.describe()"
   ]
  },
  {
   "cell_type": "code",
   "execution_count": null,
   "metadata": {},
   "outputs": [],
   "source": [
    "file25['user_id'].nunique()"
   ]
  },
  {
   "cell_type": "code",
   "execution_count": null,
   "metadata": {},
   "outputs": [],
   "source": [
    "file25['variety'].nunique()"
   ]
  },
  {
   "cell_type": "code",
   "execution_count": null,
   "metadata": {},
   "outputs": [],
   "source": [
    "file25['country'].nunique()"
   ]
  },
  {
   "cell_type": "code",
   "execution_count": null,
   "metadata": {},
   "outputs": [],
   "source": [
    "file25['category'].nunique()"
   ]
  },
  {
   "cell_type": "code",
   "execution_count": null,
   "metadata": {},
   "outputs": [],
   "source": [
    "file25['description'][400]"
   ]
  },
  {
   "cell_type": "code",
   "execution_count": null,
   "metadata": {},
   "outputs": [],
   "source": [
    "time_df = pd.read_csv('timestamp.csv')\n",
    "time_df.count()"
   ]
  },
  {
   "cell_type": "code",
   "execution_count": null,
   "metadata": {},
   "outputs": [],
   "source": [
    "timestamp = datetime.datetime.fromtimestamp(1462644085)\n",
    "print(timestamp.strftime('%Y-%m-%d %H:%M:%S'))"
   ]
  },
  {
   "cell_type": "code",
   "execution_count": null,
   "metadata": {},
   "outputs": [],
   "source": [
    "timestamp = time_df[:73025]"
   ]
  },
  {
   "cell_type": "code",
   "execution_count": null,
   "metadata": {},
   "outputs": [],
   "source": [
    "labels_t_df=['timestamp']\n",
    "time_df = pd.DataFrame(timestamp, columns =labels_t_df)\n",
    "time_df.head()"
   ]
  },
  {
   "cell_type": "code",
   "execution_count": null,
   "metadata": {},
   "outputs": [],
   "source": [
    "file25=pd.concat([file25,time_df], axis=1)\n",
    "file25.head()"
   ]
  },
  {
   "cell_type": "code",
   "execution_count": null,
   "metadata": {},
   "outputs": [],
   "source": [
    "file25.describe()"
   ]
  },
  {
   "cell_type": "code",
   "execution_count": null,
   "metadata": {},
   "outputs": [],
   "source": [
    "file25.info()"
   ]
  },
  {
   "cell_type": "markdown",
   "metadata": {},
   "source": [
    "### Where did the NaN values came from"
   ]
  },
  {
   "cell_type": "code",
   "execution_count": null,
   "metadata": {},
   "outputs": [],
   "source": [
    "file25.dropna(how='any', inplace=True)\n",
    "file25.info()"
   ]
  },
  {
   "cell_type": "code",
   "execution_count": null,
   "metadata": {},
   "outputs": [],
   "source": [
    "sns.heatmap(file25.isnull(),yticklabels=False, cbar=False, cmap='viridis')\n",
    "plt.show()"
   ]
  },
  {
   "cell_type": "code",
   "execution_count": null,
   "metadata": {},
   "outputs": [],
   "source": [
    "sns.pairplot(file25)\n",
    "plt.show()"
   ]
  },
  {
   "cell_type": "code",
   "execution_count": null,
   "metadata": {},
   "outputs": [],
   "source": [
    "plt.boxplot(file25['points'])\n",
    "plt.show()"
   ]
  },
  {
   "cell_type": "code",
   "execution_count": null,
   "metadata": {},
   "outputs": [],
   "source": [
    "sns.countplot(x = file25['points'])\n",
    "plt.show()"
   ]
  },
  {
   "cell_type": "code",
   "execution_count": null,
   "metadata": {},
   "outputs": [],
   "source": [
    "plt.boxplot(file25['wine_ratings'])\n",
    "plt.show()"
   ]
  },
  {
   "cell_type": "code",
   "execution_count": null,
   "metadata": {},
   "outputs": [],
   "source": [
    "sns.countplot(x = file25['wine_ratings'])\n",
    "plt.show()"
   ]
  },
  {
   "cell_type": "code",
   "execution_count": null,
   "metadata": {},
   "outputs": [],
   "source": [
    "sns.distplot(file25['wine_ratings'], kde=False, bins=30)\n",
    "plt.show()"
   ]
  },
  {
   "cell_type": "code",
   "execution_count": null,
   "metadata": {},
   "outputs": [],
   "source": [
    "file25['wine_ratings'].plot.hist(figsize=(10,4))\n",
    "plt.show()"
   ]
  },
  {
   "cell_type": "code",
   "execution_count": null,
   "metadata": {},
   "outputs": [],
   "source": [
    "sns.countplot(x = file25['category']),\n",
    "plt.show()"
   ]
  },
  {
   "cell_type": "markdown",
   "metadata": {},
   "source": [
    "### How can I view clutter free more than 100 countries"
   ]
  },
  {
   "cell_type": "code",
   "execution_count": null,
   "metadata": {},
   "outputs": [],
   "source": [
    "first100_countries = file25['country'][:100]"
   ]
  },
  {
   "cell_type": "code",
   "execution_count": null,
   "metadata": {},
   "outputs": [],
   "source": [
    "sns.countplot(x = first100_countries, hue=file25['category'])\n",
    "plt.show()"
   ]
  },
  {
   "cell_type": "markdown",
   "metadata": {},
   "source": [
    "### Why xlim does not cut off to 500?"
   ]
  },
  {
   "cell_type": "code",
   "execution_count": null,
   "metadata": {},
   "outputs": [],
   "source": [
    "file25['price'].hist(bins=50, figsize=(10,4))\n",
    "plt.xlim=(0,500)\n",
    "plt.show()"
   ]
  },
  {
   "cell_type": "code",
   "execution_count": null,
   "metadata": {},
   "outputs": [],
   "source": [
    "import cufflinks as cf"
   ]
  },
  {
   "cell_type": "code",
   "execution_count": null,
   "metadata": {},
   "outputs": [],
   "source": [
    "cf.go_offline()"
   ]
  },
  {
   "cell_type": "markdown",
   "metadata": {},
   "source": [
    "### How to visualize this better?"
   ]
  },
  {
   "cell_type": "code",
   "execution_count": null,
   "metadata": {
    "scrolled": true
   },
   "outputs": [],
   "source": [
    "file25['price'].iplot(kind='hist', bins=10)"
   ]
  },
  {
   "cell_type": "markdown",
   "metadata": {},
   "source": [
    "### Machine Learning"
   ]
  },
  {
   "cell_type": "code",
   "execution_count": null,
   "metadata": {
    "scrolled": true
   },
   "outputs": [],
   "source": [
    "file25.corr()"
   ]
  },
  {
   "cell_type": "code",
   "execution_count": null,
   "metadata": {
    "scrolled": true
   },
   "outputs": [],
   "source": [
    "sns.heatmap(file25.corr(), annot=True)\n",
    "plt.show()"
   ]
  },
  {
   "cell_type": "code",
   "execution_count": null,
   "metadata": {},
   "outputs": [],
   "source": [
    "X = file25[['points','wine_ratings']]\n",
    "X"
   ]
  },
  {
   "cell_type": "code",
   "execution_count": null,
   "metadata": {},
   "outputs": [],
   "source": [
    "y = file25['price']\n",
    "y"
   ]
  },
  {
   "cell_type": "code",
   "execution_count": null,
   "metadata": {},
   "outputs": [],
   "source": [
    "from sklearn.cross_validation import train_test_split"
   ]
  },
  {
   "cell_type": "code",
   "execution_count": null,
   "metadata": {},
   "outputs": [],
   "source": [
    "X_train, X_test, y_train, y_test = train_test_split(X, y, test_size=0.3, random_state=101)"
   ]
  },
  {
   "cell_type": "code",
   "execution_count": null,
   "metadata": {},
   "outputs": [],
   "source": [
    "from sklearn.linear_model import LinearRegression"
   ]
  },
  {
   "cell_type": "code",
   "execution_count": null,
   "metadata": {},
   "outputs": [],
   "source": [
    "lm = LinearRegression()"
   ]
  },
  {
   "cell_type": "code",
   "execution_count": null,
   "metadata": {},
   "outputs": [],
   "source": [
    "lm.fit(X_train,y_train)"
   ]
  },
  {
   "cell_type": "code",
   "execution_count": null,
   "metadata": {},
   "outputs": [],
   "source": [
    "print(lm.intercept_)"
   ]
  },
  {
   "cell_type": "code",
   "execution_count": null,
   "metadata": {},
   "outputs": [],
   "source": [
    "lm.coef_"
   ]
  },
  {
   "cell_type": "code",
   "execution_count": null,
   "metadata": {},
   "outputs": [],
   "source": [
    "cdf = pd.DataFrame(lm.coef_,X.columns,columns= ['Coeff'])\n",
    "cdf"
   ]
  },
  {
   "cell_type": "code",
   "execution_count": null,
   "metadata": {},
   "outputs": [],
   "source": [
    "predictions= lm.predict(X_test)"
   ]
  },
  {
   "cell_type": "code",
   "execution_count": null,
   "metadata": {},
   "outputs": [],
   "source": [
    "predictions"
   ]
  },
  {
   "cell_type": "code",
   "execution_count": null,
   "metadata": {},
   "outputs": [],
   "source": [
    "plt.scatter(y_test,predictions)\n",
    "plt.title(\"Regression Plot\")\n",
    "plt.xlabel(\"Actual Price\")\n",
    "plt.ylabel(\"Predicted Price\")\n",
    "plt.show()"
   ]
  },
  {
   "cell_type": "code",
   "execution_count": null,
   "metadata": {},
   "outputs": [],
   "source": [
    "from sklearn import metrics"
   ]
  },
  {
   "cell_type": "code",
   "execution_count": null,
   "metadata": {},
   "outputs": [],
   "source": [
    "np.sqrt(metrics.mean_squared_error(y_test, predictions))"
   ]
  },
  {
   "cell_type": "code",
   "execution_count": null,
   "metadata": {},
   "outputs": [],
   "source": [
    "metrics.mean_squared_error(y_test, predictions)"
   ]
  },
  {
   "cell_type": "markdown",
   "metadata": {},
   "source": [
    "### How to continue on second notebook, link data"
   ]
  },
  {
   "cell_type": "code",
   "execution_count": null,
   "metadata": {},
   "outputs": [],
   "source": []
  },
  {
   "cell_type": "code",
   "execution_count": null,
   "metadata": {},
   "outputs": [],
   "source": [
    "variety= pd.get_dummies(file25['variety'], drop_first=True)"
   ]
  },
  {
   "cell_type": "code",
   "execution_count": null,
   "metadata": {},
   "outputs": [],
   "source": [
    "category = pd.get_dummies(file25['category'], drop_first=True)"
   ]
  },
  {
   "cell_type": "code",
   "execution_count": null,
   "metadata": {},
   "outputs": [],
   "source": [
    "variety.head()"
   ]
  },
  {
   "cell_type": "code",
   "execution_count": null,
   "metadata": {},
   "outputs": [],
   "source": [
    "category.head()"
   ]
  },
  {
   "cell_type": "code",
   "execution_count": null,
   "metadata": {},
   "outputs": [],
   "source": [
    "file100=pd.concat([file25, category,variety], axis=1)"
   ]
  },
  {
   "cell_type": "code",
   "execution_count": null,
   "metadata": {
    "scrolled": true
   },
   "outputs": [],
   "source": [
    "file100.head()"
   ]
  },
  {
   "cell_type": "code",
   "execution_count": null,
   "metadata": {},
   "outputs": [],
   "source": [
    "#file100.drop(['variety', 'category'], axis = 1, inplace=True)"
   ]
  },
  {
   "cell_type": "code",
   "execution_count": null,
   "metadata": {},
   "outputs": [],
   "source": [
    "file100.info()"
   ]
  },
  {
   "cell_type": "code",
   "execution_count": null,
   "metadata": {},
   "outputs": [],
   "source": [
    "file100.columns"
   ]
  },
  {
   "cell_type": "code",
   "execution_count": null,
   "metadata": {},
   "outputs": [],
   "source": [
    "X = file100.drop(['country', 'description', 'province', 'winery'], axis=1)"
   ]
  },
  {
   "cell_type": "code",
   "execution_count": null,
   "metadata": {},
   "outputs": [],
   "source": [
    "y= file100['Gold']"
   ]
  },
  {
   "cell_type": "code",
   "execution_count": null,
   "metadata": {},
   "outputs": [],
   "source": [
    "from sklearn.cross_validation import train_test_split"
   ]
  },
  {
   "cell_type": "code",
   "execution_count": null,
   "metadata": {},
   "outputs": [],
   "source": [
    "X_train, X_test, y_train, y_test = train_test_split(X, y, test_size=0.3, random_state=43)"
   ]
  },
  {
   "cell_type": "code",
   "execution_count": null,
   "metadata": {},
   "outputs": [],
   "source": [
    "from sklearn.linear_model import LogisticRegression"
   ]
  },
  {
   "cell_type": "code",
   "execution_count": null,
   "metadata": {},
   "outputs": [],
   "source": [
    "logmodel = LogisticRegression()"
   ]
  },
  {
   "cell_type": "code",
   "execution_count": null,
   "metadata": {},
   "outputs": [],
   "source": [
    "logmodel.fit(X_train, y_train)"
   ]
  },
  {
   "cell_type": "code",
   "execution_count": null,
   "metadata": {},
   "outputs": [],
   "source": [
    "predictions=logmodel.predict(X_test)"
   ]
  },
  {
   "cell_type": "code",
   "execution_count": null,
   "metadata": {},
   "outputs": [],
   "source": [
    "from sklearn.metrics import classification_report"
   ]
  },
  {
   "cell_type": "code",
   "execution_count": null,
   "metadata": {},
   "outputs": [],
   "source": [
    "print(classification_report(y_test, predictions))"
   ]
  },
  {
   "cell_type": "code",
   "execution_count": null,
   "metadata": {},
   "outputs": [],
   "source": [
    "from sklearn.metrics import confusion_matrix"
   ]
  },
  {
   "cell_type": "code",
   "execution_count": null,
   "metadata": {},
   "outputs": [],
   "source": [
    "confusion_matrix(y_test, predictions)"
   ]
  },
  {
   "cell_type": "code",
   "execution_count": null,
   "metadata": {},
   "outputs": [],
   "source": []
  }
 ],
 "metadata": {
  "kernelspec": {
   "display_name": "Python 3",
   "language": "python",
   "name": "python3"
  },
  "language_info": {
   "codemirror_mode": {
    "name": "ipython",
    "version": 3
   },
   "file_extension": ".py",
   "mimetype": "text/x-python",
   "name": "python",
   "nbconvert_exporter": "python",
   "pygments_lexer": "ipython3",
   "version": "3.6.5"
  }
 },
 "nbformat": 4,
 "nbformat_minor": 2
}
